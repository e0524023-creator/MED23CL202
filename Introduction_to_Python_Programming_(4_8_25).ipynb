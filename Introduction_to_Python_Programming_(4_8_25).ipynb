{
  "nbformat": 4,
  "nbformat_minor": 0,
  "metadata": {
    "colab": {
      "provenance": [],
      "authorship_tag": "ABX9TyMcy7RsQ6Kn4bD6cgGdsxy4",
      "include_colab_link": true
    },
    "kernelspec": {
      "name": "python3",
      "display_name": "Python 3"
    },
    "language_info": {
      "name": "python"
    }
  },
  "cells": [
    {
      "cell_type": "markdown",
      "metadata": {
        "id": "view-in-github",
        "colab_type": "text"
      },
      "source": [
        "<a href=\"https://colab.research.google.com/github/e0524023-creator/MED23CL202/blob/main/Introduction_to_Python_Programming_(4_8_25).ipynb\" target=\"_parent\"><img src=\"https://colab.research.google.com/assets/colab-badge.svg\" alt=\"Open In Colab\"/></a>"
      ]
    },
    {
      "cell_type": "markdown",
      "source": [
        "# **Operators in Python**"
      ],
      "metadata": {
        "id": "dHtYVGEZbXGl"
      }
    },
    {
      "cell_type": "code",
      "execution_count": null,
      "metadata": {
        "colab": {
          "base_uri": "https://localhost:8080/"
        },
        "id": "DDHCJTkmbQXl",
        "outputId": "be3aa637-d99c-40da-9394-5b1f23b6f5da"
      },
      "outputs": [
        {
          "output_type": "execute_result",
          "data": {
            "text/plain": [
              "139"
            ]
          },
          "metadata": {},
          "execution_count": 25
        }
      ],
      "source": [
        "102+37 # Add two numbers with +"
      ]
    },
    {
      "cell_type": "code",
      "source": [
        "102-37 #Subtract two numbers with -"
      ],
      "metadata": {
        "colab": {
          "base_uri": "https://localhost:8080/"
        },
        "id": "e8RXyX99cJ_E",
        "outputId": "17d6757f-5b8a-4cf1-9c64-89150712b904"
      },
      "execution_count": null,
      "outputs": [
        {
          "output_type": "execute_result",
          "data": {
            "text/plain": [
              "65"
            ]
          },
          "metadata": {},
          "execution_count": 26
        }
      ]
    },
    {
      "cell_type": "code",
      "source": [
        "4*3 #Multiply two numbers with *"
      ],
      "metadata": {
        "colab": {
          "base_uri": "https://localhost:8080/"
        },
        "id": "xp2fu1qGcTyT",
        "outputId": "88a45609-eee2-4d72-af3e-d9c07ebb36d3"
      },
      "execution_count": null,
      "outputs": [
        {
          "output_type": "execute_result",
          "data": {
            "text/plain": [
              "12"
            ]
          },
          "metadata": {},
          "execution_count": 27
        }
      ]
    },
    {
      "cell_type": "code",
      "source": [
        "22/7 # Divide one number by another with /"
      ],
      "metadata": {
        "colab": {
          "base_uri": "https://localhost:8080/"
        },
        "id": "WZ45MiiBcU_T",
        "outputId": "a0d5c01b-4334-4b72-d0c8-4e5e9577029c"
      },
      "execution_count": null,
      "outputs": [
        {
          "output_type": "execute_result",
          "data": {
            "text/plain": [
              "3.142857142857143"
            ]
          },
          "metadata": {},
          "execution_count": 28
        }
      ]
    },
    {
      "cell_type": "code",
      "source": [
        "22//7 # Integer divide one number by another with //"
      ],
      "metadata": {
        "colab": {
          "base_uri": "https://localhost:8080/"
        },
        "id": "L0B7Ha7gcXob",
        "outputId": "700e2a36-79d9-4bc2-b6b4-3bedb8cf868e"
      },
      "execution_count": null,
      "outputs": [
        {
          "output_type": "execute_result",
          "data": {
            "text/plain": [
              "3"
            ]
          },
          "metadata": {},
          "execution_count": 29
        }
      ]
    },
    {
      "cell_type": "code",
      "source": [
        "3**4 # Raise to the power with **"
      ],
      "metadata": {
        "colab": {
          "base_uri": "https://localhost:8080/"
        },
        "id": "ADmWQdxScZ_T",
        "outputId": "720745e0-cbb0-49b2-bd7e-0bac78de5f81"
      },
      "execution_count": null,
      "outputs": [
        {
          "output_type": "execute_result",
          "data": {
            "text/plain": [
              "81"
            ]
          },
          "metadata": {},
          "execution_count": 30
        }
      ]
    },
    {
      "cell_type": "code",
      "source": [
        "22%4 # Returns 1 to get the remainder after with %"
      ],
      "metadata": {
        "colab": {
          "base_uri": "https://localhost:8080/"
        },
        "id": "jJfqBLMrcciL",
        "outputId": "0d58b1f7-3ba3-4ea8-fdcf-5d5da9a25666"
      },
      "execution_count": null,
      "outputs": [
        {
          "output_type": "execute_result",
          "data": {
            "text/plain": [
              "2"
            ]
          },
          "metadata": {},
          "execution_count": 31
        }
      ]
    },
    {
      "cell_type": "markdown",
      "source": [
        "# **Assignment operator**"
      ],
      "metadata": {
        "id": "qRfNpTtGcgQu"
      }
    },
    {
      "cell_type": "code",
      "source": [
        "a=5 # Assign a number to a\n",
        "print(a)\n",
        "x=[10,23,45]\n",
        "x[0]=1 # Change the list value at index 0\n",
        "print(x)\n",
        "\n"
      ],
      "metadata": {
        "colab": {
          "base_uri": "https://localhost:8080/"
        },
        "id": "Ft-Pzl_Jcnhr",
        "outputId": "6212af1d-ab2d-4208-9b42-bfd0e5718e51"
      },
      "execution_count": null,
      "outputs": [
        {
          "output_type": "stream",
          "name": "stdout",
          "text": [
            "5\n",
            "[1, 23, 45]\n"
          ]
        }
      ]
    },
    {
      "cell_type": "markdown",
      "source": [
        "# **Relational Operators**"
      ],
      "metadata": {
        "id": "37pw9Ci7egt5"
      }
    },
    {
      "cell_type": "code",
      "source": [
        "3==3 # Test for equality\n"
      ],
      "metadata": {
        "colab": {
          "base_uri": "https://localhost:8080/"
        },
        "id": "POUF_Y2ielxJ",
        "outputId": "5b8ad204-1fb9-4be3-b4ef-8c49c8554709"
      },
      "execution_count": null,
      "outputs": [
        {
          "output_type": "execute_result",
          "data": {
            "text/plain": [
              "True"
            ]
          },
          "metadata": {},
          "execution_count": 33
        }
      ]
    },
    {
      "cell_type": "code",
      "source": [
        "3!=3 # Test for inequality"
      ],
      "metadata": {
        "colab": {
          "base_uri": "https://localhost:8080/"
        },
        "id": "avy6Ieytfv--",
        "outputId": "109f3219-01de-4958-fbfa-708e567af5a2"
      },
      "execution_count": null,
      "outputs": [
        {
          "output_type": "execute_result",
          "data": {
            "text/plain": [
              "False"
            ]
          },
          "metadata": {},
          "execution_count": 34
        }
      ]
    },
    {
      "cell_type": "code",
      "source": [
        "3>1 # Test for greater than"
      ],
      "metadata": {
        "colab": {
          "base_uri": "https://localhost:8080/"
        },
        "id": "XPs0Rl39f0Z3",
        "outputId": "ce45fa85-a952-4569-e25b-6474e854fc77"
      },
      "execution_count": null,
      "outputs": [
        {
          "output_type": "execute_result",
          "data": {
            "text/plain": [
              "True"
            ]
          },
          "metadata": {},
          "execution_count": 35
        }
      ]
    },
    {
      "cell_type": "code",
      "source": [
        "3>=1 # Test for greater than or equal to"
      ],
      "metadata": {
        "colab": {
          "base_uri": "https://localhost:8080/"
        },
        "id": "IxPzLOhcf0te",
        "outputId": "485a60bc-464a-41ee-af79-8b7e4105b2b6"
      },
      "execution_count": null,
      "outputs": [
        {
          "output_type": "execute_result",
          "data": {
            "text/plain": [
              "True"
            ]
          },
          "metadata": {},
          "execution_count": 36
        }
      ]
    },
    {
      "cell_type": "code",
      "source": [
        "3<4 # Test for smaller than"
      ],
      "metadata": {
        "colab": {
          "base_uri": "https://localhost:8080/"
        },
        "id": "Njte4xHff0-v",
        "outputId": "464bdfab-db2a-4fa5-8b67-5dec504b3730"
      },
      "execution_count": null,
      "outputs": [
        {
          "output_type": "execute_result",
          "data": {
            "text/plain": [
              "True"
            ]
          },
          "metadata": {},
          "execution_count": 37
        }
      ]
    },
    {
      "cell_type": "code",
      "source": [
        "3<=4 # Test for smaller than or equal to"
      ],
      "metadata": {
        "colab": {
          "base_uri": "https://localhost:8080/"
        },
        "id": "EewT1MLVf1SO",
        "outputId": "eb5eefb9-49d0-4475-8ee1-ba11a00d64d2"
      },
      "execution_count": null,
      "outputs": [
        {
          "output_type": "execute_result",
          "data": {
            "text/plain": [
              "True"
            ]
          },
          "metadata": {},
          "execution_count": 38
        }
      ]
    },
    {
      "cell_type": "markdown",
      "source": [
        "# **Logical Operators**"
      ],
      "metadata": {
        "id": "9xMBH9acgJ4-"
      }
    },
    {
      "cell_type": "code",
      "source": [
        "not(2==2) # Using logical NOT"
      ],
      "metadata": {
        "colab": {
          "base_uri": "https://localhost:8080/"
        },
        "id": "HYrfj0iBgMiv",
        "outputId": "61de9c14-7e12-4f41-e727-4ee7409d2a37"
      },
      "execution_count": null,
      "outputs": [
        {
          "output_type": "execute_result",
          "data": {
            "text/plain": [
              "False"
            ]
          },
          "metadata": {},
          "execution_count": 39
        }
      ]
    },
    {
      "cell_type": "code",
      "source": [
        "(1!=1)and(1<1) # Using logical AND"
      ],
      "metadata": {
        "colab": {
          "base_uri": "https://localhost:8080/"
        },
        "id": "gpiOuGh6g-wv",
        "outputId": "17bf8dde-a674-4712-8132-3d5c298bc4e0"
      },
      "execution_count": null,
      "outputs": [
        {
          "output_type": "execute_result",
          "data": {
            "text/plain": [
              "False"
            ]
          },
          "metadata": {},
          "execution_count": 42
        }
      ]
    },
    {
      "cell_type": "code",
      "source": [
        "(1>=1)or(1<1) # Using logical OR"
      ],
      "metadata": {
        "colab": {
          "base_uri": "https://localhost:8080/"
        },
        "id": "OoI6yAHwg_H_",
        "outputId": "dca3a663-4862-4fbe-fde9-fb8aaf40ddeb"
      },
      "execution_count": null,
      "outputs": [
        {
          "output_type": "execute_result",
          "data": {
            "text/plain": [
              "True"
            ]
          },
          "metadata": {},
          "execution_count": 43
        }
      ]
    }
  ]
}