{
  "nbformat": 4,
  "nbformat_minor": 0,
  "metadata": {
    "colab": {
      "provenance": [],
      "authorship_tag": "ABX9TyOnXESk62+QBWrBqAEp2prl",
      "include_colab_link": true
    },
    "kernelspec": {
      "name": "python3",
      "display_name": "Python 3"
    },
    "language_info": {
      "name": "python"
    }
  },
  "cells": [
    {
      "cell_type": "markdown",
      "metadata": {
        "id": "view-in-github",
        "colab_type": "text"
      },
      "source": [
        "<a href=\"https://colab.research.google.com/github/e0524023-creator/MED23CL202/blob/main/Grocery_store_checkout_system_using_list_(18_8_25).ipynb\" target=\"_parent\"><img src=\"https://colab.research.google.com/assets/colab-badge.svg\" alt=\"Open In Colab\"/></a>"
      ]
    },
    {
      "cell_type": "markdown",
      "source": [
        "# **Grocery store checkout system using List**"
      ],
      "metadata": {
        "id": "_qG9uVdVvds7"
      }
    },
    {
      "cell_type": "code",
      "source": [
        "#Step 1:Available products and prices\n",
        "#Define a new list products for listing the grocery item\n",
        "products=[\"Vegetables\",\"Bread\",\"Butter\",\"Jam\"]\n",
        "cost=[300,150,200,70]\n",
        "\n",
        "#Define:EMPTY\n",
        "cart=[]\n",
        "\n",
        "#Display the menu\n",
        "def show_products():\n",
        "  print(\"\\n Available Products\")\n",
        "  for i,item in enumerate(products):\n",
        "    print(f\"{i+1}.{item} - {cost[i]}\")\n",
        "show_products()"
      ],
      "metadata": {
        "colab": {
          "base_uri": "https://localhost:8080/"
        },
        "id": "gLnAespZ0oTt",
        "outputId": "255b288d-c6c7-4203-f82b-ebf71fe56bfe"
      },
      "execution_count": null,
      "outputs": [
        {
          "output_type": "stream",
          "name": "stdout",
          "text": [
            "\n",
            " Available Products\n",
            "1.Vegetables - 300\n",
            "2.Bread - 150\n",
            "3.Butter - 200\n",
            "4.Jam - 70\n"
          ]
        }
      ]
    },
    {
      "cell_type": "code",
      "source": [
        "#Add item to cart\n",
        "def add_to_cart():\n",
        "  show_products()\n",
        "  choice=int(input(\"Enter the number of products you want to add to cart:\"))-1\n",
        "  if 0<=choice<len(products):\n",
        "    cart.append(products[choice])\n",
        "    print(f\"{products[choice]} added to cart!\")\n",
        "  else:\n",
        "    print(\"Invalid choice.Please try again.\")\n",
        "add_to_cart()"
      ],
      "metadata": {
        "colab": {
          "base_uri": "https://localhost:8080/"
        },
        "id": "As-SPHeV038j",
        "outputId": "f4e43df6-85ed-4b1c-e3a3-a021fd7bbbb4"
      },
      "execution_count": null,
      "outputs": [
        {
          "output_type": "stream",
          "name": "stdout",
          "text": [
            "\n",
            " Available Products\n",
            "1.Vegetables - 300\n",
            "2.Bread - 150\n",
            "3.Butter - 200\n",
            "4.Jam - 70\n",
            "Enter the number of products you want to add to cart:1\n",
            "Vegetables added to cart!\n"
          ]
        }
      ]
    },
    {
      "cell_type": "code",
      "source": [
        "#Remove item from cart\n",
        "def remove_item_from_cart():\n",
        "  if not cart:\n",
        "    print(\"Your cart is empty:\")\n",
        "  else:\n",
        "    print(\"\\nItems in your cart:\")\n",
        "    for i,"
      ],
      "metadata": {
        "id": "FXOpkxd-2faD"
      },
      "execution_count": null,
      "outputs": []
    },
    {
      "cell_type": "code",
      "execution_count": null,
      "metadata": {
        "id": "mYsc_QLpf44X",
        "colab": {
          "base_uri": "https://localhost:8080/",
          "height": 495
        },
        "outputId": "39d71064-7e5c-4c9c-991f-f04a5da04d3f"
      },
      "outputs": [
        {
          "output_type": "stream",
          "name": "stdout",
          "text": [
            "\n",
            "===Grocery Store Checkout System===\n",
            "1. Show products\n",
            "2. Add to cart\n",
            "3. Remove item from cart\n",
            "4. View cart\n",
            "5. Checkout\n",
            "6. Exit\n"
          ]
        },
        {
          "output_type": "error",
          "ename": "KeyboardInterrupt",
          "evalue": "Interrupted by user",
          "traceback": [
            "\u001b[0;31m---------------------------------------------------------------------------\u001b[0m",
            "\u001b[0;31mKeyboardInterrupt\u001b[0m                         Traceback (most recent call last)",
            "\u001b[0;32m/tmp/ipython-input-299414693.py\u001b[0m in \u001b[0;36m<cell line: 0>\u001b[0;34m()\u001b[0m\n\u001b[1;32m     10\u001b[0m   \u001b[0mprint\u001b[0m\u001b[0;34m(\u001b[0m\u001b[0;34m\"6. Exit\"\u001b[0m\u001b[0;34m)\u001b[0m\u001b[0;34m\u001b[0m\u001b[0;34m\u001b[0m\u001b[0m\n\u001b[1;32m     11\u001b[0m \u001b[0;34m\u001b[0m\u001b[0m\n\u001b[0;32m---> 12\u001b[0;31m   \u001b[0mchoice\u001b[0m\u001b[0;34m=\u001b[0m\u001b[0minput\u001b[0m\u001b[0;34m(\u001b[0m\u001b[0;34m\"Enter your choice:\"\u001b[0m\u001b[0;34m)\u001b[0m\u001b[0;34m\u001b[0m\u001b[0;34m\u001b[0m\u001b[0m\n\u001b[0m\u001b[1;32m     13\u001b[0m \u001b[0;34m\u001b[0m\u001b[0m\n\u001b[1;32m     14\u001b[0m   \u001b[0;32mif\u001b[0m \u001b[0mchoice\u001b[0m \u001b[0;34m==\u001b[0m \u001b[0;34m\"1\"\u001b[0m\u001b[0;34m:\u001b[0m\u001b[0;34m\u001b[0m\u001b[0;34m\u001b[0m\u001b[0m\n",
            "\u001b[0;32m/usr/local/lib/python3.11/dist-packages/ipykernel/kernelbase.py\u001b[0m in \u001b[0;36mraw_input\u001b[0;34m(self, prompt)\u001b[0m\n\u001b[1;32m   1175\u001b[0m                 \u001b[0;34m\"raw_input was called, but this frontend does not support input requests.\"\u001b[0m\u001b[0;34m\u001b[0m\u001b[0;34m\u001b[0m\u001b[0m\n\u001b[1;32m   1176\u001b[0m             )\n\u001b[0;32m-> 1177\u001b[0;31m         return self._input_request(\n\u001b[0m\u001b[1;32m   1178\u001b[0m             \u001b[0mstr\u001b[0m\u001b[0;34m(\u001b[0m\u001b[0mprompt\u001b[0m\u001b[0;34m)\u001b[0m\u001b[0;34m,\u001b[0m\u001b[0;34m\u001b[0m\u001b[0;34m\u001b[0m\u001b[0m\n\u001b[1;32m   1179\u001b[0m             \u001b[0mself\u001b[0m\u001b[0;34m.\u001b[0m\u001b[0m_parent_ident\u001b[0m\u001b[0;34m[\u001b[0m\u001b[0;34m\"shell\"\u001b[0m\u001b[0;34m]\u001b[0m\u001b[0;34m,\u001b[0m\u001b[0;34m\u001b[0m\u001b[0;34m\u001b[0m\u001b[0m\n",
            "\u001b[0;32m/usr/local/lib/python3.11/dist-packages/ipykernel/kernelbase.py\u001b[0m in \u001b[0;36m_input_request\u001b[0;34m(self, prompt, ident, parent, password)\u001b[0m\n\u001b[1;32m   1217\u001b[0m             \u001b[0;32mexcept\u001b[0m \u001b[0mKeyboardInterrupt\u001b[0m\u001b[0;34m:\u001b[0m\u001b[0;34m\u001b[0m\u001b[0;34m\u001b[0m\u001b[0m\n\u001b[1;32m   1218\u001b[0m                 \u001b[0;31m# re-raise KeyboardInterrupt, to truncate traceback\u001b[0m\u001b[0;34m\u001b[0m\u001b[0;34m\u001b[0m\u001b[0m\n\u001b[0;32m-> 1219\u001b[0;31m                 \u001b[0;32mraise\u001b[0m \u001b[0mKeyboardInterrupt\u001b[0m\u001b[0;34m(\u001b[0m\u001b[0;34m\"Interrupted by user\"\u001b[0m\u001b[0;34m)\u001b[0m \u001b[0;32mfrom\u001b[0m \u001b[0;32mNone\u001b[0m\u001b[0;34m\u001b[0m\u001b[0;34m\u001b[0m\u001b[0m\n\u001b[0m\u001b[1;32m   1220\u001b[0m             \u001b[0;32mexcept\u001b[0m \u001b[0mException\u001b[0m\u001b[0;34m:\u001b[0m\u001b[0;34m\u001b[0m\u001b[0;34m\u001b[0m\u001b[0m\n\u001b[1;32m   1221\u001b[0m                 \u001b[0mself\u001b[0m\u001b[0;34m.\u001b[0m\u001b[0mlog\u001b[0m\u001b[0;34m.\u001b[0m\u001b[0mwarning\u001b[0m\u001b[0;34m(\u001b[0m\u001b[0;34m\"Invalid Message:\"\u001b[0m\u001b[0;34m,\u001b[0m \u001b[0mexc_info\u001b[0m\u001b[0;34m=\u001b[0m\u001b[0;32mTrue\u001b[0m\u001b[0;34m)\u001b[0m\u001b[0;34m\u001b[0m\u001b[0;34m\u001b[0m\u001b[0m\n",
            "\u001b[0;31mKeyboardInterrupt\u001b[0m: Interrupted by user"
          ]
        }
      ],
      "source": [
        "#Step 7:Main program Loop\n",
        "#To develop a menu driven application\n",
        "while True:\n",
        "  print(\"\\n===Grocery Store Checkout System===\")\n",
        "  print(\"1. Show products\")\n",
        "  print(\"2. Add to cart\")\n",
        "  print(\"3. Remove item from cart\")\n",
        "  print(\"4. View cart\")\n",
        "  print(\"5. Checkout\")\n",
        "  print(\"6. Exit\")\n",
        "\n",
        "  choice=input(\"Enter your choice:\")\n",
        "\n",
        "  if choice == \"1\":\n",
        "     show_products()\n",
        "  elif choice == \"2\":\n",
        "     add_to_cart()\n",
        "  elif choice == \"3\":\n",
        "     remove_item_from_cart()\n",
        "  elif choice == \"4\":\n",
        "     view_cart()\n",
        "  elif choice == \"5\":\n",
        "     checkout()\n",
        "  elif choice == \"6\":\n",
        "     Exit()\n",
        "    #show cart\n",
        "     print(\"Thank you for shopping!\")\n",
        "     break\n",
        "  else:\n",
        "     print(\"Invalid choice.Please try again.\")"
      ]
    }
  ]
}