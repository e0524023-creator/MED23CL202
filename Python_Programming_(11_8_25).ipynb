{
  "nbformat": 4,
  "nbformat_minor": 0,
  "metadata": {
    "colab": {
      "provenance": [],
      "authorship_tag": "ABX9TyN6jBnppRrGfzrRenxhZrtZ",
      "include_colab_link": true
    },
    "kernelspec": {
      "name": "python3",
      "display_name": "Python 3"
    },
    "language_info": {
      "name": "python"
    }
  },
  "cells": [
    {
      "cell_type": "markdown",
      "metadata": {
        "id": "view-in-github",
        "colab_type": "text"
      },
      "source": [
        "<a href=\"https://colab.research.google.com/github/e0524023-creator/MED23CL202/blob/main/Python_Programming_(11_8_25).ipynb\" target=\"_parent\"><img src=\"https://colab.research.google.com/assets/colab-badge.svg\" alt=\"Open In Colab\"/></a>"
      ]
    },
    {
      "cell_type": "markdown",
      "source": [
        "#**List processing in Python**\n"
      ],
      "metadata": {
        "id": "ofUn5UHEd-mH"
      }
    },
    {
      "cell_type": "markdown",
      "source": [
        "Steps:\n",
        "\n",
        "1.Create empty result list.\n",
        "\n",
        "2.Keep a total variable starting at 0.\n",
        "\n",
        "3.Loop through each number.\n",
        "\n",
        "4.Add to total append the result.\n",
        "\n",
        "\n"
      ],
      "metadata": {
        "id": "Uox32y5GeU5F"
      }
    },
    {
      "cell_type": "code",
      "execution_count": null,
      "metadata": {
        "colab": {
          "base_uri": "https://localhost:8080/"
        },
        "id": "V-eiNmdId4Qj",
        "outputId": "eb88090e-c054-4c2e-a9be-21b32be403f4"
      },
      "outputs": [
        {
          "output_type": "stream",
          "name": "stdout",
          "text": [
            "[10, 30, 35, 36]\n"
          ]
        }
      ],
      "source": [
        "#Running sum\n",
        "def runningSum(nums):\n",
        "    result =[] #Empty list\n",
        "    total=0 #Initialise total to zero\n",
        "    for n in nums: #Start the loop for running Sum\n",
        "        total+=n #Add the value to total\n",
        "        result.append(total) #Append the Sum to return list\n",
        "    return(result)\n",
        "print(runningSum([10,20,5,1]))"
      ]
    },
    {
      "cell_type": "code",
      "source": [
        "#Count even numbers in a list\n",
        "#Count even numbers.\n",
        "#Sample Input =[3,7,2,9,5]\n",
        "#Expected Output=1\n",
        "\n",
        "def CountEven(nums):\n",
        "  count=0\n",
        "  for n in nums:\n",
        "    if n % 2 ==0:\n",
        "      count +=1\n",
        "  return count\n",
        "\n",
        "print(CountEven([3,7,2,9,5]))"
      ],
      "metadata": {
        "colab": {
          "base_uri": "https://localhost:8080/"
        },
        "id": "d5fBH4jwjCc3",
        "outputId": "4410a4f4-5b92-4c9b-f988-2cb3c96ee1c7"
      },
      "execution_count": null,
      "outputs": [
        {
          "output_type": "stream",
          "name": "stdout",
          "text": [
            "1\n"
          ]
        }
      ]
    },
    {
      "cell_type": "code",
      "source": [
        "#Reverse a list\n",
        "#Reverse list:\n",
        "#Sample Input=[1,2,3,4]\n",
        "#Expected Output=[4,3,2,1]\n",
        "\n",
        "def reverseList(nums):\n",
        "  return nums[::-1]\n",
        "print(reverseList([1,2,3,4]))\n"
      ],
      "metadata": {
        "colab": {
          "base_uri": "https://localhost:8080/"
        },
        "id": "Jcg7q6rglOIe",
        "outputId": "e1d50d5a-d835-404e-cf12-fca2f121e70b"
      },
      "execution_count": null,
      "outputs": [
        {
          "output_type": "stream",
          "name": "stdout",
          "text": [
            "[4, 3, 2, 1]\n"
          ]
        }
      ]
    },
    {
      "cell_type": "code",
      "source": [
        "###Slicing the List\n",
        "my_list=[10,5,1,0,-6]\n",
        "#The list slice from the beginning to end, taking every second element\n",
        "print(my_list[::2])"
      ],
      "metadata": {
        "colab": {
          "base_uri": "https://localhost:8080/"
        },
        "id": "D4-yTSVBmoDO",
        "outputId": "a11bf1a4-817a-430c-f555-66e95eba61e6"
      },
      "execution_count": null,
      "outputs": [
        {
          "output_type": "stream",
          "name": "stdout",
          "text": [
            "[10, 1, -6]\n"
          ]
        }
      ]
    },
    {
      "cell_type": "code",
      "source": [
        "#Find Maximum number in a list\n",
        "#Sample Input=[3,7,2,9,5]\n",
        "#Expected Ouput=9\n",
        "\n",
        "def FindMax(nums):\n",
        "  max_num=nums[0] #Assign first of list a maximum\n",
        "  for n in nums:\n",
        "    if n > max_num:\n",
        "      max_num=n\n",
        "  return max_num\n",
        "\n",
        "print(FindMax([3,7,2,9,5]))"
      ],
      "metadata": {
        "colab": {
          "base_uri": "https://localhost:8080/"
        },
        "id": "W15T2BtVocU_",
        "outputId": "38dd5e27-7ff5-4c23-e2ac-99a4431c941d"
      },
      "execution_count": null,
      "outputs": [
        {
          "output_type": "stream",
          "name": "stdout",
          "text": [
            "9\n"
          ]
        }
      ]
    },
    {
      "cell_type": "code",
      "source": [
        "#Merge two sorted lists\n",
        "#Sample Input=[1,3,5],[2,4,6]\n",
        "#Expected Output=[1,2,3,4,5,6]\n",
        "\n",
        "def Mergelist(list1,list2):\n",
        "  return sorted(list1+list2)\n",
        "\n",
        "print(Mergelist([1,3,5],[2,4,6]))\n"
      ],
      "metadata": {
        "colab": {
          "base_uri": "https://localhost:8080/"
        },
        "id": "ZNTjRZCxrTF-",
        "outputId": "378b283a-dae7-4aea-94ba-e4d205b310e7"
      },
      "execution_count": null,
      "outputs": [
        {
          "output_type": "stream",
          "name": "stdout",
          "text": [
            "[1, 2, 3, 4, 5, 6]\n"
          ]
        }
      ]
    },
    {
      "cell_type": "code",
      "source": [
        "#Square of a sorted list\n",
        "#Sample Input=[-4,-1,0,3,-50]\n",
        "#Expected Output=[0,1,9,16,2500]\n",
        "\n",
        "def SortedSquare(nums):\n",
        "  return sorted([x**2 for x in nums])\n",
        "#List comprehension: Defines a list based on iteration that is\n",
        "#[x**2 for x in nums]\n",
        "#is defined to find the square of elements in the sorted list\n",
        "print(SortedSquare([-4,-1,0,3,-50]))"
      ],
      "metadata": {
        "colab": {
          "base_uri": "https://localhost:8080/"
        },
        "id": "uYfSIAGswLZo",
        "outputId": "54866009-1303-446a-ea78-899106fcb91d"
      },
      "execution_count": null,
      "outputs": [
        {
          "output_type": "stream",
          "name": "stdout",
          "text": [
            "[0, 1, 9, 16, 2500]\n"
          ]
        }
      ]
    },
    {
      "cell_type": "code",
      "source": [],
      "metadata": {
        "id": "Dfp4qteBx6_Y"
      },
      "execution_count": null,
      "outputs": []
    }
  ]
}